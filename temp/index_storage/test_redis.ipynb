{
 "cells": [
  {
   "cell_type": "code",
   "execution_count": 55,
   "id": "89b6628e-3c05-4fd2-a5cc-c554908325ac",
   "metadata": {},
   "outputs": [],
   "source": [
    "### Google Secret Manager Client Instalation\n",
    "\n",
    "\n",
    "# !pip install google-cloud-secret-manager\n",
    "# Install gcloud: https://cloud.google.com/sdk/docs/install#windows\n",
    "# Setup the credential: gcloud auth application-default login"
   ]
  },
  {
   "cell_type": "code",
   "execution_count": 88,
   "id": "ae1d5e8b-af83-421e-94ed-b3b32e68fd8c",
   "metadata": {},
   "outputs": [],
   "source": [
    "# !pip install aioredis==1.3.1"
   ]
  },
  {
   "cell_type": "code",
   "execution_count": 58,
   "id": "dc86ad8e-45ed-4b66-aef1-54b846421f9a",
   "metadata": {},
   "outputs": [],
   "source": [
    "import json\n",
    "from google.cloud import secretmanager\n",
    "import redis\n",
    "import asyncio\n",
    "import aioredis\n",
    "\n",
    "import numpy as np\n",
    "\n",
    "from tqdm.notebook import tqdm"
   ]
  },
  {
   "cell_type": "code",
   "execution_count": 59,
   "id": "465adc9f-631f-4b1c-8333-a110e38f56ec",
   "metadata": {},
   "outputs": [],
   "source": [
    "def get_secret_value(project_id = \"652914548272\", secret_id = \"redis\", key = \"redis-test\"):\n",
    "    from google.cloud import secretmanager\n",
    "\n",
    "    # Create the Secret Manager client.\n",
    "    client = secretmanager.SecretManagerServiceClient()\n",
    "    \n",
    "    name = f\"projects/{project_id}/secrets/{secret_id}/versions/latest\"\n",
    "\n",
    "    # Access the secret version.\n",
    "    response = client.access_secret_version(request={\"name\": name})\n",
    "\n",
    "    payload = response.payload.data.decode(\"UTF-8\")\n",
    "    configs = eval(payload)\n",
    "\n",
    "    config_key = configs[key]\n",
    "\n",
    "    return config_key\n"
   ]
  },
  {
   "cell_type": "code",
   "execution_count": 87,
   "id": "b183913e-648d-49f3-9eb9-d0ecd460cc8e",
   "metadata": {},
   "outputs": [],
   "source": [
    "# Redis on Redis Cloud (30mb)\n",
    "config_redis = get_secret_value(key = \"redis-test\")"
   ]
  },
  {
   "cell_type": "code",
   "execution_count": 62,
   "id": "749a3cf0-302b-4a9f-9880-896bca4250b4",
   "metadata": {},
   "outputs": [],
   "source": [
    "# Redis on Virtual Machine (GCP Compute Engine)\n",
    "# config_redis = {\n",
    "#     'host': '34.122.96.184',\n",
    "#     'port': 6379,\n",
    "#     'password':\"redis-stack\"\n",
    "# }"
   ]
  },
  {
   "cell_type": "code",
   "execution_count": 63,
   "id": "e2f94e14-e0e0-4d5f-b32e-51ff35ef1a51",
   "metadata": {},
   "outputs": [],
   "source": [
    "r = redis.Redis(\n",
    "  host=config_redis[\"host\"],\n",
    "  port=config_redis[\"port\"],\n",
    "  password=config_redis[\"password\"]\n",
    ")"
   ]
  },
  {
   "cell_type": "markdown",
   "id": "f1eaeac2-95a9-4fd4-978e-d2685f8d0561",
   "metadata": {},
   "source": [
    "# Load Index Json"
   ]
  },
  {
   "cell_type": "code",
   "execution_count": 65,
   "id": "d03ecdd1-65dc-4921-8f30-ec7b76822515",
   "metadata": {},
   "outputs": [
    {
     "name": "stderr",
     "output_type": "stream",
     "text": [
      "/Users/alim/miniconda3/envs/main/lib/python3.11/json/decoder.py:353: RuntimeWarning: coroutine 'batch_push' was never awaited\n",
      "  obj, end = self.scan_once(s, idx)\n",
      "RuntimeWarning: Enable tracemalloc to get the object allocation traceback\n",
      "Task was destroyed but it is pending!\n",
      "task: <Task pending name='Task-13' coro=<RedisConnection._read_data() running at /Users/alim/miniconda3/envs/main/lib/python3.11/site-packages/aioredis/connection.py:186> wait_for=<Future pending cb=[Task.task_wakeup()]> cb=[RedisConnection.__init__.<locals>.<lambda>() at /Users/alim/miniconda3/envs/main/lib/python3.11/site-packages/aioredis/connection.py:168]>\n"
     ]
    }
   ],
   "source": [
    "with open(\"index.json\", 'r+') as f:\n",
    "    data_json = json.load(f)"
   ]
  },
  {
   "cell_type": "markdown",
   "id": "62ad4a61-ccdb-4e05-960c-5ee684240bf5",
   "metadata": {
    "jp-MarkdownHeadingCollapsed": true
   },
   "source": [
    "# Push Index to Redis"
   ]
  },
  {
   "cell_type": "code",
   "execution_count": 70,
   "id": "8163fb16-66e6-4a46-8e9b-91ddbf458f5b",
   "metadata": {},
   "outputs": [],
   "source": [
    "# r.set(\"document_size\", str(data_json['document_size']))"
   ]
  },
  {
   "cell_type": "code",
   "execution_count": 71,
   "id": "a7985bfe-e59c-4468-800a-23852e0534fd",
   "metadata": {},
   "outputs": [
    {
     "data": {
      "text/plain": [
       "b\"{'0': 5000}\""
      ]
     },
     "execution_count": 71,
     "metadata": {},
     "output_type": "execute_result"
    }
   ],
   "source": [
    "r.get('document_size')"
   ]
  },
  {
   "cell_type": "code",
   "execution_count": 72,
   "id": "e74fb852-adfd-4a78-b978-68208912bdd9",
   "metadata": {},
   "outputs": [],
   "source": [
    "# r.set(\"doc_ids_list\", str(data_json['doc_ids_list']))"
   ]
  },
  {
   "cell_type": "code",
   "execution_count": 74,
   "id": "9dba965f-27f8-4cce-b735-a7845f819e31",
   "metadata": {},
   "outputs": [],
   "source": [
    "# r.get('doc_ids_list')"
   ]
  },
  {
   "cell_type": "code",
   "execution_count": 75,
   "id": "3203ba67-62ac-47f7-813b-dfd09ea4f129",
   "metadata": {},
   "outputs": [],
   "source": [
    "# # Store term positions in documents\n",
    "# for term in tqdm(data_json.keys()):\n",
    "#     if term not in ['document_size', 'doc_ids_list']:\n",
    "#         r.set(term, str(data_json['term'])) #38944/39310"
   ]
  },
  {
   "cell_type": "markdown",
   "id": "ee123002-0d54-4422-8c78-14a8fa85298d",
   "metadata": {},
   "source": [
    "# Push Index to Redis in batches"
   ]
  },
  {
   "cell_type": "code",
   "execution_count": 83,
   "id": "401921e3-2c6b-4cdb-8ec7-bb42bbce4331",
   "metadata": {},
   "outputs": [],
   "source": [
    "def process_dict_in_batches(input_dict, batch_size):\n",
    "    keys = list(input_dict.keys())\n",
    "    num_keys = len(keys)\n",
    "    batches = []\n",
    "    for i in range(0, num_keys, batch_size):\n",
    "        batch_keys = keys[i:i+batch_size]\n",
    "        batch = {key: str(input_dict[key]) for key in batch_keys}\n",
    "        batches.append(batch)\n",
    "    return batches"
   ]
  },
  {
   "cell_type": "code",
   "execution_count": 86,
   "id": "9629880e-4915-475a-8ec2-bf63609b52d7",
   "metadata": {},
   "outputs": [],
   "source": [
    "minibatch = 15\n",
    "batches = process_dict_in_batches(data_json, minibatch)"
   ]
  },
  {
   "cell_type": "code",
   "execution_count": 85,
   "id": "6fc043fe-3301-44bf-b5b5-af73df898e81",
   "metadata": {},
   "outputs": [],
   "source": [
    "async def set_data(redis, key, value):\n",
    "    await redis.set(key, value)\n",
    "\n",
    "async def batch_push():\n",
    "    # Define Redis server configuration\n",
    "    redis_config = {\n",
    "        'address': (config_redis[\"host\"], config_redis[\"port\"]),  # IP address and port\n",
    "        'password': config_redis[\"password\"]  # Redis password\n",
    "    }\n",
    "    \n",
    "    # Connect to Redis\n",
    "    redis = await aioredis.create_redis_pool(**redis_config)\n",
    "\n",
    "    # Define keys and values to set\n",
    "    for batch in tqdm(batches):\n",
    "        # Perform SET operations in parallel\n",
    "        tasks = [set_data(redis, key, value) for key, value in batch.items()]\n",
    "        await asyncio.gather(*tasks)\n",
    "\n",
    "    # Close Redis connection\n",
    "    redis.close()\n",
    "    await redis.wait_closed()\n",
    "\n",
    "# Run the asyncio event loop\n",
    "# asyncio.run(batch_push()) # use in a script\n",
    "\n",
    "# await batch_push() # use in a notebook"
   ]
  },
  {
   "cell_type": "markdown",
   "id": "fe1b4b0f-dea1-4e87-b237-6a54197e8788",
   "metadata": {},
   "source": [
    "# Retrieve value from Redis"
   ]
  },
  {
   "cell_type": "code",
   "execution_count": 76,
   "id": "ea1ff9c7-fb24-46dc-b5a8-5a4c2a767230",
   "metadata": {},
   "outputs": [],
   "source": [
    "def get_val(r, key):\n",
    "    value = r.get(key)\n",
    "    value = value.decode()\n",
    "    value = eval(value)\n",
    "    return value"
   ]
  },
  {
   "cell_type": "code",
   "execution_count": 77,
   "id": "f0920873-d147-43b1-a55e-3390d30035fb",
   "metadata": {},
   "outputs": [],
   "source": [
    "# get_val(r, 'doc_ids_list')"
   ]
  },
  {
   "cell_type": "code",
   "execution_count": 78,
   "id": "d823f7d6-356a-429c-a636-91fe00970c3b",
   "metadata": {},
   "outputs": [],
   "source": [
    "terms = list(data_json.keys())"
   ]
  },
  {
   "cell_type": "code",
   "execution_count": 81,
   "id": "e017e731-8152-40ff-b27b-f64d82c52a56",
   "metadata": {},
   "outputs": [],
   "source": [
    "term = terms[-21]\n",
    "val = get_val(r, term)"
   ]
  },
  {
   "cell_type": "code",
   "execution_count": 82,
   "id": "0b9c339b-101e-4d75-90e3-bab1a8415541",
   "metadata": {},
   "outputs": [
    {
     "data": {
      "text/plain": [
       "{'10037': [911, 912]}"
      ]
     },
     "execution_count": 82,
     "metadata": {},
     "output_type": "execute_result"
    }
   ],
   "source": [
    "val"
   ]
  },
  {
   "cell_type": "markdown",
   "id": "2da46a7d-6e1e-43fe-bb73-7a6bf220edef",
   "metadata": {
    "jp-MarkdownHeadingCollapsed": true
   },
   "source": [
    "# Create a new format index"
   ]
  },
  {
   "cell_type": "code",
   "execution_count": 68,
   "id": "38d22634-7a90-4e99-9772-51f2a6183c85",
   "metadata": {},
   "outputs": [],
   "source": [
    "# data = {\n",
    "#     \"document_size\": data_json['document_size'],\n",
    "#     \"doc_ids_list\": data_json['doc_ids_list']\n",
    "# }\n",
    "\n",
    "# data['terms'] = {}"
   ]
  },
  {
   "cell_type": "code",
   "execution_count": 69,
   "id": "1366c1d0-0fdf-400a-ace4-c83f81394b91",
   "metadata": {},
   "outputs": [],
   "source": [
    "# for keyword in data_json.keys():\n",
    "#     if keyword not in ['document_size', 'doc_ids_list']:\n",
    "#         data['terms'][keyword] = data_json[keyword]"
   ]
  }
 ],
 "metadata": {
  "kernelspec": {
   "display_name": "Python 3 (ipykernel)",
   "language": "python",
   "name": "python3"
  },
  "language_info": {
   "codemirror_mode": {
    "name": "ipython",
    "version": 3
   },
   "file_extension": ".py",
   "mimetype": "text/x-python",
   "name": "python",
   "nbconvert_exporter": "python",
   "pygments_lexer": "ipython3",
   "version": "3.11.5"
  }
 },
 "nbformat": 4,
 "nbformat_minor": 5
}

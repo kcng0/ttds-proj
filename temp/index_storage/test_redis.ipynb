{
 "cells": [
  {
   "cell_type": "code",
   "execution_count": 77,
   "id": "89b6628e-3c05-4fd2-a5cc-c554908325ac",
   "metadata": {},
   "outputs": [],
   "source": [
    "### Google Secret Manager Client Instalation\n",
    "\n",
    "\n",
    "# !pip install google-cloud-secret-manager\n",
    "# Install gcloud: https://cloud.google.com/sdk/docs/install#windows\n",
    "# Setup the credential: gcloud auth application-default login"
   ]
  },
  {
   "cell_type": "code",
   "execution_count": 178,
   "id": "dc86ad8e-45ed-4b66-aef1-54b846421f9a",
   "metadata": {},
   "outputs": [],
   "source": [
    "import json\n",
    "from google.cloud import secretmanager\n",
    "import redis\n",
    "\n",
    "import numpy as np\n",
    "\n",
    "from tqdm.notebook import tqdm"
   ]
  },
  {
   "cell_type": "code",
   "execution_count": 74,
   "id": "465adc9f-631f-4b1c-8333-a110e38f56ec",
   "metadata": {},
   "outputs": [],
   "source": [
    "def get_secret_value(project_id = \"652914548272\", secret_id = \"redis\", key = \"redis-test\"):\n",
    "    from google.cloud import secretmanager\n",
    "\n",
    "    # Create the Secret Manager client.\n",
    "    client = secretmanager.SecretManagerServiceClient()\n",
    "    \n",
    "    name = f\"projects/{project_id}/secrets/{secret_id}/versions/latest\"\n",
    "\n",
    "    # Access the secret version.\n",
    "    response = client.access_secret_version(request={\"name\": name})\n",
    "\n",
    "    payload = response.payload.data.decode(\"UTF-8\")\n",
    "    configs = eval(payload)\n",
    "\n",
    "    config_key = configs[key]\n",
    "\n",
    "    return config_key\n"
   ]
  },
  {
   "cell_type": "code",
   "execution_count": 75,
   "id": "b183913e-648d-49f3-9eb9-d0ecd460cc8e",
   "metadata": {},
   "outputs": [],
   "source": [
    "config_redis = get_secret_value(key = \"redis-test\")"
   ]
  },
  {
   "cell_type": "code",
   "execution_count": 76,
   "id": "e2f94e14-e0e0-4d5f-b32e-51ff35ef1a51",
   "metadata": {},
   "outputs": [],
   "source": [
    "r = redis.Redis(\n",
    "  host=config_redis[\"host\"],\n",
    "  port=config_redis[\"port\"],\n",
    "  password=config_redis[\"password\"])"
   ]
  },
  {
   "cell_type": "markdown",
   "id": "f1eaeac2-95a9-4fd4-978e-d2685f8d0561",
   "metadata": {},
   "source": [
    "# Load Index Json"
   ]
  },
  {
   "cell_type": "code",
   "execution_count": 240,
   "id": "d03ecdd1-65dc-4921-8f30-ec7b76822515",
   "metadata": {},
   "outputs": [],
   "source": [
    "with open(\"index_sample.json\", 'r+') as f:\n",
    "    data_json = json.load(f)"
   ]
  },
  {
   "cell_type": "code",
   "execution_count": 241,
   "id": "0d3de667-7dc5-4d74-b7e0-9ec4b7aee5e4",
   "metadata": {},
   "outputs": [
    {
     "data": {
      "text/plain": [
       "dict_keys(['document_size', 'doc_ids_list', 'ft', '14', '92', 'havel', 'famili', 'arian', 'genillard', 'anthoni', 'robinson', 'set', 'scene', 'czechoslovak', 'elect', 'futur', 'czechoslovakia', 'econom', 'reform', 'fate', 'czech', 'slovak', 'feder', 'state', 'main', 'issu', 'debat', 'hard', 'fought', 'gener', 'campaign', 'involv', '40', 'polit', 'parti', 'began', 'yesterday', 'open', 'shot', 'fire', 'mr', 'vaclav', 'presid', 'republ', 'address', 'nation', 'bratislava', 'capit', 'warn', 'unconsid', 'danger', 'attempt', 'break', 'countri', 'fragil', 'move', 'union', 'reconstitut', 'vagu', 'dualist', 'lead', 'chaotic', 'exact', 'high', 'price', 'similar', 'up', 'yugoslavia', 'soviet', 'presidenti', 'direct', 'nationalist', 'strive', 'greater', 'autonomi', 'hold', '16m', 'popul', 'vladimir', 'meciar', 'movement', 'democrat', 'slovakia', 'expect', 'emerg', 'largest', 'june', '5', 'promis', 'adopt', 'constitut', 'declar', 'sovereignti', 'win', 'poll', 'place', 'politician', '34', 'cent', 'support', 'remain'])"
      ]
     },
     "execution_count": 241,
     "metadata": {},
     "output_type": "execute_result"
    }
   ],
   "source": [
    "data_json.keys()"
   ]
  },
  {
   "cell_type": "markdown",
   "id": "2da46a7d-6e1e-43fe-bb73-7a6bf220edef",
   "metadata": {},
   "source": [
    "# Create a new format index"
   ]
  },
  {
   "cell_type": "code",
   "execution_count": 168,
   "id": "38d22634-7a90-4e99-9772-51f2a6183c85",
   "metadata": {},
   "outputs": [],
   "source": [
    "data = {\n",
    "    \"document_size\": data_json['document_size'],\n",
    "    \"doc_ids_list\": data_json['doc_ids_list']\n",
    "}\n",
    "\n",
    "data['terms'] = {}"
   ]
  },
  {
   "cell_type": "code",
   "execution_count": 169,
   "id": "1366c1d0-0fdf-400a-ace4-c83f81394b91",
   "metadata": {},
   "outputs": [],
   "source": [
    "for keyword in data_json.keys():\n",
    "    if keyword not in ['document_size', 'doc_ids_list']:\n",
    "        data['terms'][keyword] = data_json[keyword]"
   ]
  },
  {
   "cell_type": "markdown",
   "id": "62ad4a61-ccdb-4e05-960c-5ee684240bf5",
   "metadata": {},
   "source": [
    "# Push Index to Redis"
   ]
  },
  {
   "cell_type": "code",
   "execution_count": 208,
   "id": "8163fb16-66e6-4a46-8e9b-91ddbf458f5b",
   "metadata": {},
   "outputs": [
    {
     "data": {
      "text/plain": [
       "True"
      ]
     },
     "execution_count": 208,
     "metadata": {},
     "output_type": "execute_result"
    }
   ],
   "source": [
    "r.set(\"document_size\", str(data_json['document_size']))"
   ]
  },
  {
   "cell_type": "code",
   "execution_count": 209,
   "id": "e74fb852-adfd-4a78-b978-68208912bdd9",
   "metadata": {},
   "outputs": [
    {
     "data": {
      "text/plain": [
       "True"
      ]
     },
     "execution_count": 209,
     "metadata": {},
     "output_type": "execute_result"
    }
   ],
   "source": [
    "r.set(\"doc_ids_list\", str(data_json['doc_ids_list']))"
   ]
  },
  {
   "cell_type": "code",
   "execution_count": 181,
   "id": "3203ba67-62ac-47f7-813b-dfd09ea4f129",
   "metadata": {},
   "outputs": [],
   "source": [
    "# Store term positions in documents\n",
    "for term in tqdm(data_json.keys()):\n",
    "    if term not in ['document_size', 'doc_ids_list']:\n",
    "        r.set(term, str(data_json['term'])) #1263/39310"
   ]
  },
  {
   "cell_type": "markdown",
   "id": "fe1b4b0f-dea1-4e87-b237-6a54197e8788",
   "metadata": {},
   "source": [
    "# Retrieve value from Redis"
   ]
  },
  {
   "cell_type": "code",
   "execution_count": 219,
   "id": "ea1ff9c7-fb24-46dc-b5a8-5a4c2a767230",
   "metadata": {},
   "outputs": [],
   "source": [
    "def get_val(r, key):\n",
    "    value = r.get(key)\n",
    "    value = value.decode()\n",
    "    value = eval(value)\n",
    "    return value"
   ]
  },
  {
   "cell_type": "code",
   "execution_count": 223,
   "id": "f0920873-d147-43b1-a55e-3390d30035fb",
   "metadata": {},
   "outputs": [
    {
     "data": {
      "text/plain": [
       "{'0': 5000}"
      ]
     },
     "execution_count": 223,
     "metadata": {},
     "output_type": "execute_result"
    }
   ],
   "source": [
    "get_val(r, 'document_size')"
   ]
  },
  {
   "cell_type": "code",
   "execution_count": 224,
   "id": "e017e731-8152-40ff-b27b-f64d82c52a56",
   "metadata": {},
   "outputs": [],
   "source": [
    "term = 'ft'\n",
    "\n",
    "val = get_val(r, term)"
   ]
  }
 ],
 "metadata": {
  "kernelspec": {
   "display_name": "Python 3 (ipykernel)",
   "language": "python",
   "name": "python3"
  },
  "language_info": {
   "codemirror_mode": {
    "name": "ipython",
    "version": 3
   },
   "file_extension": ".py",
   "mimetype": "text/x-python",
   "name": "python",
   "nbconvert_exporter": "python",
   "pygments_lexer": "ipython3",
   "version": "3.11.5"
  }
 },
 "nbformat": 4,
 "nbformat_minor": 5
}

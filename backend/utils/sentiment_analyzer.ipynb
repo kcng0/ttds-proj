{
 "cells": [
  {
   "cell_type": "code",
   "execution_count": 1,
   "metadata": {},
   "outputs": [],
   "source": [
    "from sentiment_analyzer import get_sentiment_dictionary_from_csv_path"
   ]
  },
  {
   "cell_type": "code",
   "execution_count": null,
   "metadata": {},
   "outputs": [],
   "source": [
    "data_path = \"C:/Users/Asus/Desktop/ttds-proj/backend/data/\"\n",
    "# outlet_folders = [\"bbc\", \"gbn\", \"ind\", \"tele\"]\n",
    "outlet_folders = [\"tele\"]\n",
    "output_file_path = \"sentiment_dictionary/sentiment_dictionary.json\"\n",
    "sentiment_dictionary = {}\n",
    "\n",
    "# Iterate over each outlet folder\n",
    "for outlet_folder in outlet_folders:\n",
    "    # Construct the path to the current outlet folder\n",
    "    folder_path = os.path.join(data_path, outlet_folder)\n",
    "    # List all files in the current outlet folder\n",
    "    all_file_paths = os.listdir(folder_path)\n",
    "\n",
    "    # Iterate over each file in the current outlet folder\n",
    "    for file_name in tqdm(all_file_paths, desc=outlet_folder):\n",
    "        # Construct the full path to the current file\n",
    "        file_path = os.path.join(folder_path, file_name)\n",
    "        # Ensure the file is a CSV before attempting to read it\n",
    "        if file_path.endswith(\".csv\"):\n",
    "            try:\n",
    "                # Read the current CSV file into a pandas DataFrame\n",
    "                sentiment_dictionary = get_sentiment_dictionary_from_csv_path(\n",
    "                    file_path, csv_sentiment_dictionary=sentiment_dictionary\n",
    "                )\n",
    "            except Exception as e:\n",
    "                print(f\"Error with {file_path}: {e}\")\n",
    "\n",
    "with open(\n",
    "    output_file_path, \"wb\"\n",
    ") as file:  # 'wb' mode because orjson.dumps() returns bytes\n",
    "    file.write(orjson.dumps(sentiment_dictionary))"
   ]
  }
 ],
 "metadata": {
  "kernelspec": {
   "display_name": "base",
   "language": "python",
   "name": "python3"
  },
  "language_info": {
   "codemirror_mode": {
    "name": "ipython",
    "version": 3
   },
   "file_extension": ".py",
   "mimetype": "text/x-python",
   "name": "python",
   "nbconvert_exporter": "python",
   "pygments_lexer": "ipython3",
   "version": "3.11.5"
  }
 },
 "nbformat": 4,
 "nbformat_minor": 2
}
